{
 "cells": [
  {
   "cell_type": "code",
   "execution_count": 8,
   "metadata": {},
   "outputs": [],
   "source": [
    "import scanpy.api as sc\n",
    "import pandas as pd\n",
    "import sklearn"
   ]
  },
  {
   "cell_type": "code",
   "execution_count": 2,
   "metadata": {},
   "outputs": [],
   "source": [
    "# read in the scanpy object (clustered object and raw/unfiltered gene expression data), for example:\n",
    "sc_obj = sc.read(\"/projects/sysbio/users/cellAtlas/data/cluster/10xGenomics_pbmc8k_clustered.h5ad\")\n",
    "sc_obj.raw = sc.read(\"/projects/sysbio/users/cellAtlas/data/scanpyObj/logarithmized_raw_data/10xGenomics_pbmc8k_raw_log.h5ad\")"
   ]
  },
  {
   "cell_type": "code",
   "execution_count": 3,
   "metadata": {},
   "outputs": [],
   "source": [
    "# write the raw (unfiltered) expression matrix to file\n",
    "\n",
    "# if the expression matrix (sc_obj.raw.X) is stored in a sparse format\n",
    "expression_df = pd.DataFrame(data=sc_obj.raw.X.toarray(), index = sc_obj.obs.index.tolist(), columns = sc_obj.raw.var.index.tolist())\n",
    "expression_df.to_csv(\"./cluster_db_input_test/pbmc8k_raw_log_expr_matrix.tsv\", sep='\\t', index=True,header=True)\n",
    "\n",
    "# if the expression matrix (sc_obj.raw.X) is stored in a matrix format\n",
    "#expression_df = pd.DataFrame(data=sc_obj.raw.X, index = sc_obj.obs.index.tolist(), columns = sc_obj.raw.var.index.tolist())\n",
    "#expression_df.to_csv(\"./cluster_db_input/XXX_raw_log_expr_matrix.tsv\", sep='\\t', index=True,header=True)"
   ]
  },
  {
   "cell_type": "code",
   "execution_count": 4,
   "metadata": {},
   "outputs": [],
   "source": [
    "# write the clustering solution to file\n",
    "\n",
    "louvain_cluster_df = pd.DataFrame(data=0, index = sc_obj.obs.louvain.index.tolist(), columns = [\"sample\",\"cluster\"])\n",
    "louvain_cluster_df[\"sample\"] = sc_obj.obs.louvain.index.tolist()\n",
    "louvain_cluster_df[\"cluster\"] = sc_obj.obs.louvain\n",
    "louvain_cluster_df.to_csv(\"./cluster_db_input_test/pbmc8k_louvain100pcs_clustering_table.tsv\", sep='\\t', index=False,header=True)"
   ]
  },
  {
   "cell_type": "code",
   "execution_count": 5,
   "metadata": {},
   "outputs": [],
   "source": [
    "# compute the average gene expression per cluster\n",
    "\n",
    "sorted_k = sorted([int(k) for k in list(set(sc_obj.obs.louvain))])\n",
    "avg_expr_df = pd.DataFrame(data=0, index = sc_obj.raw.var.index.tolist(), columns = sorted_k)\n",
    "for cluster in sorted_k:\n",
    "    cluster_specific_cells = sc_obj.obs.loc[(sc_obj.obs.louvain == str(cluster))].index.tolist()\n",
    "    sample_cluster_subset = sc_obj[cluster_specific_cells,:]\n",
    "    subset_df = pd.DataFrame(data=sample_cluster_subset.raw.X.toarray(), index = sample_cluster_subset.obs.index.tolist(), columns = sample_cluster_subset.raw.var.index.tolist())\n",
    "    avg_over_cells = [x/subset_df.shape[0] for x in subset_df.sum(axis=0)]\n",
    "    avg_expr_df[cluster] = avg_over_cells\n"
   ]
  },
  {
   "cell_type": "code",
   "execution_count": 6,
   "metadata": {},
   "outputs": [],
   "source": [
    "# write the average gene expression per cluster to file\n",
    "\n",
    "avg_expr_df.T.to_csv(\"./cluster_db_input_test/pbmc8k_louvain100pcs_avg_expr_per_cluster.tsv\", sep='\\t', index=True,header=True)"
   ]
  },
  {
   "cell_type": "code",
   "execution_count": null,
   "metadata": {},
   "outputs": [
    {
     "name": "stdout",
     "output_type": "stream",
     "text": [
      "0\n",
      "1\n"
     ]
    }
   ],
   "source": [
    "# compute the signature genes (AUC method)\n",
    "louvain_clusters = sorted(set(sc_obj.obs.louvain))\n",
    "auc_df_louvain = pd.DataFrame(data=0, index = sc_obj.raw.var.index.tolist(), columns = louvain_clusters)\n",
    "for c in louvain_clusters:\n",
    "    print(c)\n",
    "    cluster_vec = [1 if x==c else 0 for x in sc_obj.obs.louvain]\n",
    "    full_matrix = sc_obj.raw.X.toarray()\n",
    "    for gene in sc_obj.raw.var.index.tolist():\n",
    "        gene_vec = full_matrix[:,list(sc_obj.raw.var.index).index(gene)]\n",
    "        auc = sklearn.metrics.roc_auc_score(cluster_vec, gene_vec)\n",
    "        auc_df_louvain.loc[gene,c] = auc\n",
    "\n",
    "auc_df_louvain_inverted = auc_df_louvain.copy()\n",
    "for c in louvain_clusters:\n",
    "    auc_df_louvain_inverted[c] = [1-x if x<0.5 else x for x in auc_df_louvain_inverted[c]]\n",
    "\n",
    "auc_df_louvain_inverted['max'] = auc_df_louvain_inverted.max(axis=1)\n",
    "AUCsig_louvainClusters_genes = list(auc_df_louvain_inverted[auc_df_louvain_inverted['max']>0.75].index)"
   ]
  },
  {
   "cell_type": "code",
   "execution_count": null,
   "metadata": {},
   "outputs": [],
   "source": [
    "# bring signature genes in correct format and write to file\n",
    "\n",
    "first = [\"gene_set_name\",\"method\",\"clustering_solution_name\",\"dataset_name\"] + [\"gene_\"+str(i) for i in range(len(AUCsig_louvainClusters_genes))]\n",
    "second = [\"AUCge75\",\"gene included if ROCAUC >= 0.75 for any cluster\",\"louvain100pcs\",\"pbmc8k\"] + AUCsig_louvainClusters_genes\n",
    "\n",
    "gene_set_df = pd.DataFrame(data=0, index = first, columns = [\"second\"])\n",
    "gene_set_df[\"second\"] = second\n",
    "\n",
    "gene_set_df.to_csv(\"./cluster_db_input_test/pbmc8k_louvain100pcs_AUCge75_sigGeneSet.tsv\", sep='\\t', index=True,header=False)"
   ]
  },
  {
   "cell_type": "code",
   "execution_count": null,
   "metadata": {},
   "outputs": [],
   "source": []
  }
 ],
 "metadata": {
  "kernelspec": {
   "display_name": "Python 3",
   "language": "python",
   "name": "python3"
  },
  "language_info": {
   "codemirror_mode": {
    "name": "ipython",
    "version": 3
   },
   "file_extension": ".py",
   "mimetype": "text/x-python",
   "name": "python",
   "nbconvert_exporter": "python",
   "pygments_lexer": "ipython3",
   "version": "3.7.1"
  }
 },
 "nbformat": 4,
 "nbformat_minor": 2
}
